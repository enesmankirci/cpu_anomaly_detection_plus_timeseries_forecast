{
 "cells": [
  {
   "cell_type": "code",
   "execution_count": 1,
   "id": "82e96ef3",
   "metadata": {},
   "outputs": [
    {
     "data": {
      "text/html": [
       "<div>\n",
       "<style scoped>\n",
       "    .dataframe tbody tr th:only-of-type {\n",
       "        vertical-align: middle;\n",
       "    }\n",
       "\n",
       "    .dataframe tbody tr th {\n",
       "        vertical-align: top;\n",
       "    }\n",
       "\n",
       "    .dataframe thead th {\n",
       "        text-align: right;\n",
       "    }\n",
       "</style>\n",
       "<table border=\"1\" class=\"dataframe\">\n",
       "  <thead>\n",
       "    <tr style=\"text-align: right;\">\n",
       "      <th></th>\n",
       "      <th>DATETIME</th>\n",
       "      <th>SERVER</th>\n",
       "      <th>CPU</th>\n",
       "      <th>CPULOAD</th>\n",
       "    </tr>\n",
       "  </thead>\n",
       "  <tbody>\n",
       "    <tr>\n",
       "      <th>0</th>\n",
       "      <td>2020-03-24 00:00:00+03:00</td>\n",
       "      <td>CIHAZ_301</td>\n",
       "      <td>CPU-0</td>\n",
       "      <td>3.88</td>\n",
       "    </tr>\n",
       "    <tr>\n",
       "      <th>1</th>\n",
       "      <td>2020-03-24 00:00:00+03:00</td>\n",
       "      <td>CIHAZ_301</td>\n",
       "      <td>CPU-1</td>\n",
       "      <td>11.33</td>\n",
       "    </tr>\n",
       "    <tr>\n",
       "      <th>2</th>\n",
       "      <td>2020-03-24 00:00:00+03:00</td>\n",
       "      <td>CIHAZ_301</td>\n",
       "      <td>CPU-10</td>\n",
       "      <td>5.31</td>\n",
       "    </tr>\n",
       "    <tr>\n",
       "      <th>3</th>\n",
       "      <td>2020-03-24 00:00:00+03:00</td>\n",
       "      <td>CIHAZ_301</td>\n",
       "      <td>CPU-11</td>\n",
       "      <td>5.25</td>\n",
       "    </tr>\n",
       "    <tr>\n",
       "      <th>4</th>\n",
       "      <td>2020-03-24 00:00:00+03:00</td>\n",
       "      <td>CIHAZ_301</td>\n",
       "      <td>CPU-12</td>\n",
       "      <td>0.28</td>\n",
       "    </tr>\n",
       "  </tbody>\n",
       "</table>\n",
       "</div>"
      ],
      "text/plain": [
       "                    DATETIME     SERVER     CPU  CPULOAD\n",
       "0  2020-03-24 00:00:00+03:00  CIHAZ_301   CPU-0     3.88\n",
       "1  2020-03-24 00:00:00+03:00  CIHAZ_301   CPU-1    11.33\n",
       "2  2020-03-24 00:00:00+03:00  CIHAZ_301  CPU-10     5.31\n",
       "3  2020-03-24 00:00:00+03:00  CIHAZ_301  CPU-11     5.25\n",
       "4  2020-03-24 00:00:00+03:00  CIHAZ_301  CPU-12     0.28"
      ]
     },
     "execution_count": 1,
     "metadata": {},
     "output_type": "execute_result"
    }
   ],
   "source": [
    "import pandas as pd\n",
    "\n",
    "df=pd.read_csv('train.csv')\n",
    "df.head()"
   ]
  },
  {
   "cell_type": "code",
   "execution_count": 2,
   "id": "22691e13",
   "metadata": {},
   "outputs": [
    {
     "data": {
      "text/plain": [
       "(312696, 4)"
      ]
     },
     "execution_count": 2,
     "metadata": {},
     "output_type": "execute_result"
    }
   ],
   "source": [
    "df.shape"
   ]
  },
  {
   "cell_type": "code",
   "execution_count": 3,
   "id": "88e32fba",
   "metadata": {},
   "outputs": [],
   "source": [
    "#DETECTING OUTLIERS PER CPU\n",
    "server_list = df['SERVER'].unique()\n",
    "cpu_list = df['CPU'].unique()\n",
    "outlier_indices = []\n",
    "\n",
    "for server in server_list:\n",
    "    for cpu in cpu_list:\n",
    "        data_subset = df[(df['CPU'] == cpu) & (df['SERVER'] == server)]\n",
    "        q1 = data_subset['CPULOAD'].quantile(0.25)\n",
    "        q3 = data_subset['CPULOAD'].quantile(0.75)\n",
    "\n",
    "        cpu_iqr = q3 - q1\n",
    "        upper = q3 + (1.5 * cpu_iqr)\n",
    "        lower = q1 - (1.5 * cpu_iqr)\n",
    "\n",
    "        outliers = data_subset[(data_subset['CPULOAD'] > upper) | (data_subset['CPULOAD'] < lower)]\n",
    "        outlier_indices.extend(outliers.index.tolist())"
   ]
  },
  {
   "cell_type": "code",
   "execution_count": 4,
   "id": "15acac99",
   "metadata": {},
   "outputs": [
    {
     "data": {
      "text/html": [
       "<div>\n",
       "<style scoped>\n",
       "    .dataframe tbody tr th:only-of-type {\n",
       "        vertical-align: middle;\n",
       "    }\n",
       "\n",
       "    .dataframe tbody tr th {\n",
       "        vertical-align: top;\n",
       "    }\n",
       "\n",
       "    .dataframe thead th {\n",
       "        text-align: right;\n",
       "    }\n",
       "</style>\n",
       "<table border=\"1\" class=\"dataframe\">\n",
       "  <thead>\n",
       "    <tr style=\"text-align: right;\">\n",
       "      <th></th>\n",
       "      <th>DATETIME</th>\n",
       "      <th>SERVER</th>\n",
       "      <th>CPU</th>\n",
       "      <th>CPULOAD</th>\n",
       "    </tr>\n",
       "  </thead>\n",
       "  <tbody>\n",
       "    <tr>\n",
       "      <th>0</th>\n",
       "      <td>2020-03-24 00:00:00+03:00</td>\n",
       "      <td>CIHAZ_301</td>\n",
       "      <td>CPU-0</td>\n",
       "      <td>3.88</td>\n",
       "    </tr>\n",
       "    <tr>\n",
       "      <th>1</th>\n",
       "      <td>2020-03-24 00:00:00+03:00</td>\n",
       "      <td>CIHAZ_301</td>\n",
       "      <td>CPU-1</td>\n",
       "      <td>11.33</td>\n",
       "    </tr>\n",
       "    <tr>\n",
       "      <th>2</th>\n",
       "      <td>2020-03-24 00:00:00+03:00</td>\n",
       "      <td>CIHAZ_301</td>\n",
       "      <td>CPU-10</td>\n",
       "      <td>5.31</td>\n",
       "    </tr>\n",
       "    <tr>\n",
       "      <th>3</th>\n",
       "      <td>2020-03-24 00:00:00+03:00</td>\n",
       "      <td>CIHAZ_301</td>\n",
       "      <td>CPU-11</td>\n",
       "      <td>5.25</td>\n",
       "    </tr>\n",
       "    <tr>\n",
       "      <th>4</th>\n",
       "      <td>2020-03-24 00:00:00+03:00</td>\n",
       "      <td>CIHAZ_301</td>\n",
       "      <td>CPU-12</td>\n",
       "      <td>0.28</td>\n",
       "    </tr>\n",
       "  </tbody>\n",
       "</table>\n",
       "</div>"
      ],
      "text/plain": [
       "                    DATETIME     SERVER     CPU  CPULOAD\n",
       "0  2020-03-24 00:00:00+03:00  CIHAZ_301   CPU-0     3.88\n",
       "1  2020-03-24 00:00:00+03:00  CIHAZ_301   CPU-1    11.33\n",
       "2  2020-03-24 00:00:00+03:00  CIHAZ_301  CPU-10     5.31\n",
       "3  2020-03-24 00:00:00+03:00  CIHAZ_301  CPU-11     5.25\n",
       "4  2020-03-24 00:00:00+03:00  CIHAZ_301  CPU-12     0.28"
      ]
     },
     "execution_count": 4,
     "metadata": {},
     "output_type": "execute_result"
    }
   ],
   "source": [
    "#FILTERING OUT OUTLIERS\n",
    "df = df[~df.index.isin(outlier_indices)]\n",
    "df.head()"
   ]
  },
  {
   "cell_type": "code",
   "execution_count": 5,
   "id": "26044666",
   "metadata": {},
   "outputs": [
    {
     "data": {
      "text/plain": [
       "(307716, 4)"
      ]
     },
     "execution_count": 5,
     "metadata": {},
     "output_type": "execute_result"
    }
   ],
   "source": [
    "df.shape"
   ]
  },
  {
   "cell_type": "code",
   "execution_count": 6,
   "id": "c88962b0",
   "metadata": {},
   "outputs": [
    {
     "data": {
      "text/plain": [
       "statsmodels.tsa.seasonal.DecomposeResult"
      ]
     },
     "execution_count": 6,
     "metadata": {},
     "output_type": "execute_result"
    }
   ],
   "source": [
    "from statsmodels.tsa.seasonal import seasonal_decompose\n",
    "df['DATETIME']=pd.to_datetime(df['DATETIME'])\n",
    "decomp_results=seasonal_decompose(df['CPULOAD'], period=96)\n",
    "type(decomp_results)"
   ]
  },
  {
   "cell_type": "code",
   "execution_count": 7,
   "id": "ef987f66",
   "metadata": {},
   "outputs": [
    {
     "data": {
      "image/png": "[encoded data removed]",
      "text/plain": [
       "<Figure size 432x288 with 4 Axes>"
      ]
     },
     "metadata": {
      "needs_background": "light"
     },
     "output_type": "display_data"
    }
   ],
   "source": [
    "import matplotlib.pyplot as plt\n",
    "decomp_results.plot()\n",
    "plt.show()"
   ]
  },
  {
   "cell_type": "code",
   "execution_count": 8,
   "id": "b88348c0",
   "metadata": {},
   "outputs": [
    {
     "data": {
      "image/png": "[encoded data removed]",
      "text/plain": [
       "<Figure size 576x288 with 1 Axes>"
      ]
     },
     "metadata": {
      "needs_background": "light"
     },
     "output_type": "display_data"
    }
   ],
   "source": [
    "from statsmodels.graphics.tsaplots import plot_acf\n",
    "#ACF\n",
    "fig, ax = plt.subplots(1,1, figsize=(8,4))\n",
    "plot_acf(df['CPULOAD'], ax=ax, lags=50, zero=False)\n",
    "plt.show()\n",
    "\n",
    "# Period of 24 steps = SEASONAL ORDER S\n",
    "S=24"
   ]
  },
  {
   "cell_type": "code",
   "execution_count": 9,
   "id": "14ff2f67",
   "metadata": {},
   "outputs": [
    {
     "data": {
      "image/png": "[encoded data removed]",
      "text/plain": [
       "<Figure size 432x288 with 2 Axes>"
      ]
     },
     "metadata": {
      "needs_background": "light"
     },
     "output_type": "display_data"
    }
   ],
   "source": [
    "from statsmodels.graphics.tsaplots import plot_pacf\n",
    "\n",
    "#Data is relatively constant, no trend upwards or downwards, only taking seasonal diff(?)\n",
    "\n",
    "df_diff=df['CPULOAD'].diff(S).dropna()\n",
    "\n",
    "lags24 = [24, 48, 72, 96, 120, 144]\n",
    "lags48 = lags24*2\n",
    "\n",
    "fig, (ax1, ax2) = plt.subplots(2,1)\n",
    "\n",
    "#seasonal ACF\n",
    "plot_acf(df_diff, lags=lags24, ax=ax1,  alpha=0.05)\n",
    "\n",
    "#seasonal PACF\n",
    "plot_pacf(df_diff, lags=lags24, ax=ax2,  alpha=0.05)\n",
    "\n",
    "fig.tight_layout()\n",
    "plt.show()\n",
    "\n",
    "#pacf cuts off at P -> AR\n",
    "#acf cuts off at Q -> MA\n",
    "#Both tail off, an ARMA model\n",
    "\n",
    "#Here pacf cuts off at P=48, Q=0"
   ]
  },
  {
   "cell_type": "code",
   "execution_count": 10,
   "id": "59b31735",
   "metadata": {},
   "outputs": [
    {
     "data": {
      "text/plain": [
       "(307716, 4)"
      ]
     },
     "execution_count": 10,
     "metadata": {},
     "output_type": "execute_result"
    }
   ],
   "source": [
    "df.reset_index( inplace=True)\n",
    "df = df.set_index('DATETIME')\n",
    "df.shape"
   ]
  },
  {
   "cell_type": "code",
   "execution_count": 11,
   "id": "9966e011",
   "metadata": {},
   "outputs": [
    {
     "data": {
      "text/plain": [
       "(307716, 4)"
      ]
     },
     "execution_count": 11,
     "metadata": {},
     "output_type": "execute_result"
    }
   ],
   "source": [
    "df_a=df.drop_duplicates()\n",
    "df_a.shape"
   ]
  },
  {
   "cell_type": "code",
   "execution_count": 12,
   "id": "9bf5c304",
   "metadata": {},
   "outputs": [],
   "source": [
    "#df[df.index.duplicated()]"
   ]
  },
  {
   "cell_type": "code",
   "execution_count": 13,
   "id": "bd849956",
   "metadata": {},
   "outputs": [
    {
     "data": {
      "text/html": [
       "<div>\n",
       "<style scoped>\n",
       "    .dataframe tbody tr th:only-of-type {\n",
       "        vertical-align: middle;\n",
       "    }\n",
       "\n",
       "    .dataframe tbody tr th {\n",
       "        vertical-align: top;\n",
       "    }\n",
       "\n",
       "    .dataframe thead th {\n",
       "        text-align: right;\n",
       "    }\n",
       "</style>\n",
       "<table border=\"1\" class=\"dataframe\">\n",
       "  <thead>\n",
       "    <tr style=\"text-align: right;\">\n",
       "      <th></th>\n",
       "      <th>index</th>\n",
       "      <th>SERVER</th>\n",
       "      <th>CPU</th>\n",
       "      <th>CPULOAD</th>\n",
       "    </tr>\n",
       "    <tr>\n",
       "      <th>DATETIME</th>\n",
       "      <th></th>\n",
       "      <th></th>\n",
       "      <th></th>\n",
       "      <th></th>\n",
       "    </tr>\n",
       "  </thead>\n",
       "  <tbody>\n",
       "    <tr>\n",
       "      <th>2020-03-24 00:00:00+03:00</th>\n",
       "      <td>0</td>\n",
       "      <td>CIHAZ_301</td>\n",
       "      <td>CPU-0</td>\n",
       "      <td>3.88</td>\n",
       "    </tr>\n",
       "    <tr>\n",
       "      <th>2020-03-24 00:00:00+03:00</th>\n",
       "      <td>1</td>\n",
       "      <td>CIHAZ_301</td>\n",
       "      <td>CPU-1</td>\n",
       "      <td>11.33</td>\n",
       "    </tr>\n",
       "    <tr>\n",
       "      <th>2020-03-24 00:00:00+03:00</th>\n",
       "      <td>2</td>\n",
       "      <td>CIHAZ_301</td>\n",
       "      <td>CPU-10</td>\n",
       "      <td>5.31</td>\n",
       "    </tr>\n",
       "    <tr>\n",
       "      <th>2020-03-24 00:00:00+03:00</th>\n",
       "      <td>3</td>\n",
       "      <td>CIHAZ_301</td>\n",
       "      <td>CPU-11</td>\n",
       "      <td>5.25</td>\n",
       "    </tr>\n",
       "    <tr>\n",
       "      <th>2020-03-24 00:00:00+03:00</th>\n",
       "      <td>4</td>\n",
       "      <td>CIHAZ_301</td>\n",
       "      <td>CPU-12</td>\n",
       "      <td>0.28</td>\n",
       "    </tr>\n",
       "  </tbody>\n",
       "</table>\n",
       "</div>"
      ],
      "text/plain": [
       "                           index     SERVER     CPU  CPULOAD\n",
       "DATETIME                                                    \n",
       "2020-03-24 00:00:00+03:00      0  CIHAZ_301   CPU-0     3.88\n",
       "2020-03-24 00:00:00+03:00      1  CIHAZ_301   CPU-1    11.33\n",
       "2020-03-24 00:00:00+03:00      2  CIHAZ_301  CPU-10     5.31\n",
       "2020-03-24 00:00:00+03:00      3  CIHAZ_301  CPU-11     5.25\n",
       "2020-03-24 00:00:00+03:00      4  CIHAZ_301  CPU-12     0.28"
      ]
     },
     "execution_count": 13,
     "metadata": {},
     "output_type": "execute_result"
    }
   ],
   "source": [
    "df.head()"
   ]
  },
  {
   "cell_type": "code",
   "execution_count": 14,
   "id": "80fed644",
   "metadata": {},
   "outputs": [
    {
     "data": {
      "text/html": [
       "<div>\n",
       "<style scoped>\n",
       "    .dataframe tbody tr th:only-of-type {\n",
       "        vertical-align: middle;\n",
       "    }\n",
       "\n",
       "    .dataframe tbody tr th {\n",
       "        vertical-align: top;\n",
       "    }\n",
       "\n",
       "    .dataframe thead th {\n",
       "        text-align: right;\n",
       "    }\n",
       "</style>\n",
       "<table border=\"1\" class=\"dataframe\">\n",
       "  <thead>\n",
       "    <tr style=\"text-align: right;\">\n",
       "      <th></th>\n",
       "      <th>index</th>\n",
       "      <th>SERVER</th>\n",
       "      <th>CPU</th>\n",
       "      <th>CPULOAD</th>\n",
       "    </tr>\n",
       "    <tr>\n",
       "      <th>DATETIME</th>\n",
       "      <th></th>\n",
       "      <th></th>\n",
       "      <th></th>\n",
       "      <th></th>\n",
       "    </tr>\n",
       "  </thead>\n",
       "  <tbody>\n",
       "    <tr>\n",
       "      <th>2020-03-24 00:00:00+03:00</th>\n",
       "      <td>0</td>\n",
       "      <td>CIHAZ_301</td>\n",
       "      <td>CPU-0</td>\n",
       "      <td>3.88</td>\n",
       "    </tr>\n",
       "    <tr>\n",
       "      <th>2020-03-24 00:15:00+03:00</th>\n",
       "      <td>48</td>\n",
       "      <td>CIHAZ_301</td>\n",
       "      <td>CPU-0</td>\n",
       "      <td>3.92</td>\n",
       "    </tr>\n",
       "    <tr>\n",
       "      <th>2020-03-24 00:30:00+03:00</th>\n",
       "      <td>96</td>\n",
       "      <td>CIHAZ_301</td>\n",
       "      <td>CPU-0</td>\n",
       "      <td>3.62</td>\n",
       "    </tr>\n",
       "    <tr>\n",
       "      <th>2020-03-24 00:45:00+03:00</th>\n",
       "      <td>144</td>\n",
       "      <td>CIHAZ_301</td>\n",
       "      <td>CPU-0</td>\n",
       "      <td>3.07</td>\n",
       "    </tr>\n",
       "    <tr>\n",
       "      <th>2020-03-24 01:00:00+03:00</th>\n",
       "      <td>192</td>\n",
       "      <td>CIHAZ_301</td>\n",
       "      <td>CPU-0</td>\n",
       "      <td>3.11</td>\n",
       "    </tr>\n",
       "  </tbody>\n",
       "</table>\n",
       "</div>"
      ],
      "text/plain": [
       "                           index     SERVER    CPU  CPULOAD\n",
       "DATETIME                                                   \n",
       "2020-03-24 00:00:00+03:00      0  CIHAZ_301  CPU-0     3.88\n",
       "2020-03-24 00:15:00+03:00     48  CIHAZ_301  CPU-0     3.92\n",
       "2020-03-24 00:30:00+03:00     96  CIHAZ_301  CPU-0     3.62\n",
       "2020-03-24 00:45:00+03:00    144  CIHAZ_301  CPU-0     3.07\n",
       "2020-03-24 01:00:00+03:00    192  CIHAZ_301  CPU-0     3.11"
      ]
     },
     "execution_count": 14,
     "metadata": {},
     "output_type": "execute_result"
    }
   ],
   "source": [
    "df0=df.loc[(df['SERVER']=='CIHAZ_301') & (df['CPU'] == 'CPU-0'), :]\n",
    "pd.to_datetime(df0.index)\n",
    "df0.head()"
   ]
  },
  {
   "cell_type": "code",
   "execution_count": 15,
   "id": "d7def99a",
   "metadata": {},
   "outputs": [
    {
     "data": {
      "text/plain": [
       "DatetimeIndex(['2020-03-24 00:00:00+03:00', '2020-03-24 00:15:00+03:00',\n",
       "               '2020-03-24 00:30:00+03:00', '2020-03-24 00:45:00+03:00',\n",
       "               '2020-03-24 01:00:00+03:00', '2020-03-24 01:15:00+03:00',\n",
       "               '2020-03-24 01:30:00+03:00', '2020-03-24 01:45:00+03:00',\n",
       "               '2020-03-24 02:00:00+03:00', '2020-03-24 02:15:00+03:00',\n",
       "               ...\n",
       "               '2020-05-30 21:30:00+03:00', '2020-05-30 21:45:00+03:00',\n",
       "               '2020-05-30 22:00:00+03:00', '2020-05-30 22:15:00+03:00',\n",
       "               '2020-05-30 22:30:00+03:00', '2020-05-30 22:45:00+03:00',\n",
       "               '2020-05-30 23:00:00+03:00', '2020-05-30 23:15:00+03:00',\n",
       "               '2020-05-30 23:30:00+03:00', '2020-05-30 23:45:00+03:00'],\n",
       "              dtype='datetime64[ns, pytz.FixedOffset(180)]', name='DATETIME', length=6350, freq=None)"
      ]
     },
     "execution_count": 15,
     "metadata": {},
     "output_type": "execute_result"
    }
   ],
   "source": [
    "df0.asfreq('15T')\n",
    "df0.asfreq(freq ='15T')\n",
    "df0.index"
   ]
  },
  {
   "cell_type": "code",
   "execution_count": 16,
   "id": "f0c5b106",
   "metadata": {},
   "outputs": [],
   "source": [
    "from statsmodels.tsa.statespace.sarimax import SARIMAX\n",
    "\n",
    "import pmdarima as pm\n",
    "\n",
    "#My data is stationary so i didnt take first difference and thats why non-seasonal AR MA values are 0. \n",
    "#For seasonal AR and MA pacf cuts off so AR value is 48 while MA tails off so i gave it a 0."
   ]
  },
  {
   "cell_type": "code",
   "execution_count": 17,
   "id": "d907487f",
   "metadata": {},
   "outputs": [
    {
     "name": "stdout",
     "output_type": "stream",
     "text": [
      "Performing stepwise search to minimize aic\n",
      " ARIMA(2,1,2)(1,0,1)[24] intercept   : AIC=28844.109, Time=22.44 sec\n",
      " ARIMA(0,1,0)(0,0,0)[24] intercept   : AIC=29859.093, Time=0.11 sec\n",
      " ARIMA(1,1,0)(1,0,0)[24] intercept   : AIC=29081.628, Time=1.62 sec\n",
      " ARIMA(0,1,1)(0,0,1)[24] intercept   : AIC=28891.174, Time=1.92 sec\n",
      " ARIMA(0,1,0)(0,0,0)[24]             : AIC=29857.093, Time=0.08 sec\n",
      " ARIMA(2,1,2)(0,0,1)[24] intercept   : AIC=28843.265, Time=13.87 sec\n",
      " ARIMA(2,1,2)(0,0,0)[24] intercept   : AIC=28841.452, Time=3.20 sec\n",
      " ARIMA(2,1,2)(1,0,0)[24] intercept   : AIC=28843.280, Time=15.72 sec\n",
      " ARIMA(1,1,2)(0,0,0)[24] intercept   : AIC=28853.315, Time=2.96 sec\n",
      " ARIMA(2,1,1)(0,0,0)[24] intercept   : AIC=28877.233, Time=0.91 sec\n",
      " ARIMA(3,1,2)(0,0,0)[24] intercept   : AIC=28840.016, Time=4.46 sec\n",
      " ARIMA(3,1,2)(1,0,0)[24] intercept   : AIC=28841.856, Time=17.20 sec\n",
      " ARIMA(3,1,2)(0,0,1)[24] intercept   : AIC=28841.842, Time=15.66 sec\n",
      " ARIMA(3,1,2)(1,0,1)[24] intercept   : AIC=28842.731, Time=26.86 sec\n",
      " ARIMA(3,1,1)(0,0,0)[24] intercept   : AIC=28866.414, Time=2.69 sec\n",
      " ARIMA(4,1,2)(0,0,0)[24] intercept   : AIC=28835.941, Time=5.57 sec\n",
      " ARIMA(4,1,2)(1,0,0)[24] intercept   : AIC=28837.778, Time=26.23 sec\n",
      " ARIMA(4,1,2)(0,0,1)[24] intercept   : AIC=28837.764, Time=22.05 sec\n",
      " ARIMA(4,1,2)(1,0,1)[24] intercept   : AIC=28838.564, Time=29.78 sec\n",
      " ARIMA(4,1,1)(0,0,0)[24] intercept   : AIC=28837.183, Time=3.76 sec\n",
      " ARIMA(5,1,2)(0,0,0)[24] intercept   : AIC=28837.929, Time=6.27 sec\n",
      " ARIMA(4,1,3)(0,0,0)[24] intercept   : AIC=28837.654, Time=3.71 sec\n",
      " ARIMA(3,1,3)(0,0,0)[24] intercept   : AIC=28844.507, Time=5.26 sec\n",
      " ARIMA(5,1,1)(0,0,0)[24] intercept   : AIC=28836.347, Time=3.18 sec\n",
      " ARIMA(5,1,3)(0,0,0)[24] intercept   : AIC=28838.860, Time=8.04 sec\n",
      " ARIMA(4,1,2)(0,0,0)[24]             : AIC=28833.941, Time=2.48 sec\n",
      " ARIMA(4,1,2)(1,0,0)[24]             : AIC=28835.778, Time=9.64 sec\n",
      " ARIMA(4,1,2)(0,0,1)[24]             : AIC=28835.764, Time=8.50 sec\n",
      " ARIMA(4,1,2)(1,0,1)[24]             : AIC=28836.564, Time=12.07 sec\n",
      " ARIMA(3,1,2)(0,0,0)[24]             : AIC=28838.016, Time=1.70 sec\n",
      " ARIMA(4,1,1)(0,0,0)[24]             : AIC=28835.183, Time=1.53 sec\n",
      " ARIMA(5,1,2)(0,0,0)[24]             : AIC=28835.929, Time=3.17 sec\n",
      " ARIMA(4,1,3)(0,0,0)[24]             : AIC=28835.654, Time=1.79 sec\n",
      " ARIMA(3,1,1)(0,0,0)[24]             : AIC=28864.414, Time=0.83 sec\n",
      " ARIMA(3,1,3)(0,0,0)[24]             : AIC=28842.507, Time=2.48 sec\n",
      " ARIMA(5,1,1)(0,0,0)[24]             : AIC=28834.347, Time=1.48 sec\n",
      " ARIMA(5,1,3)(0,0,0)[24]             : AIC=28836.321, Time=4.48 sec\n",
      "\n",
      "Best model:  ARIMA(4,1,2)(0,0,0)[24]          \n",
      "Total fit time: 293.766 seconds\n",
      "                               SARIMAX Results                                \n",
      "==============================================================================\n",
      "Dep. Variable:                      y   No. Observations:                 6350\n",
      "Model:               SARIMAX(4, 1, 2)   Log Likelihood              -14409.971\n",
      "Date:                Thu, 13 Jul 2023   AIC                          28833.941\n",
      "Time:                        13:39:05   BIC                          28881.234\n",
      "Sample:                             0   HQIC                         28850.318\n",
      "                               - 6350                                         \n",
      "Covariance Type:                  opg                                         \n",
      "==============================================================================\n",
      "                 coef    std err          z      P>|z|      [0.025      0.975]\n",
      "------------------------------------------------------------------------------\n",
      "ar.L1          0.6289      0.090      6.951      0.000       0.452       0.806\n",
      "ar.L2          0.0368      0.058      0.634      0.526      -0.077       0.151\n",
      "ar.L3          0.0671      0.023      2.857      0.004       0.021       0.113\n",
      "ar.L4          0.0639      0.019      3.365      0.001       0.027       0.101\n",
      "ma.L1         -1.0424      0.091    -11.503      0.000      -1.220      -0.865\n",
      "ma.L2          0.1975      0.089      2.220      0.026       0.023       0.372\n",
      "sigma2         5.4816      0.040    137.892      0.000       5.404       5.559\n",
      "===================================================================================\n",
      "Ljung-Box (L1) (Q):                   0.00   Jarque-Bera (JB):             31119.75\n",
      "Prob(Q):                              1.00   Prob(JB):                         0.00\n",
      "Heteroskedasticity (H):               0.60   Skew:                             0.86\n",
      "Prob(H) (two-sided):                  0.00   Kurtosis:                        13.71\n",
      "===================================================================================\n",
      "\n",
      "Warnings:\n",
      "[1] Covariance matrix calculated using the outer product of gradients (complex-step).\n"
     ]
    }
   ],
   "source": [
    "results=pm.auto_arima(df0['CPULOAD'], seasonal=True, m=24, D=0, trace=True, error_action='ignore', suppress_warnings=True, stepwise=True)\n",
    "\n",
    "print(results.summary())"
   ]
  },
  {
   "cell_type": "code",
   "execution_count": 22,
   "id": "bfa2a557",
   "metadata": {},
   "outputs": [
    {
     "name": "stderr",
     "output_type": "stream",
     "text": [
      "C:\\Users\\FatihS\\anaconda3\\anaconda_yeni\\lib\\site-packages\\statsmodels\\tsa\\base\\tsa_model.py:581: ValueWarning: A date index has been provided, but it has no associated frequency information and so will be ignored when e.g. forecasting.\n",
      "  warnings.warn('A date index has been provided, but it has no'\n",
      "C:\\Users\\FatihS\\anaconda3\\anaconda_yeni\\lib\\site-packages\\statsmodels\\tsa\\base\\tsa_model.py:581: ValueWarning: A date index has been provided, but it has no associated frequency information and so will be ignored when e.g. forecasting.\n",
      "  warnings.warn('A date index has been provided, but it has no'\n",
      "C:\\Users\\FatihS\\anaconda3\\anaconda_yeni\\lib\\site-packages\\statsmodels\\base\\model.py:566: ConvergenceWarning: Maximum Likelihood optimization failed to converge. Check mle_retvals\n",
      "  warnings.warn(\"Maximum Likelihood optimization failed to \"\n"
     ]
    },
    {
     "name": "stdout",
     "output_type": "stream",
     "text": [
      "CIHAZ_301\n"
     ]
    },
    {
     "name": "stderr",
     "output_type": "stream",
     "text": [
      "C:\\Users\\FatihS\\anaconda3\\anaconda_yeni\\lib\\site-packages\\statsmodels\\tsa\\base\\tsa_model.py:581: ValueWarning: A date index has been provided, but it has no associated frequency information and so will be ignored when e.g. forecasting.\n",
      "  warnings.warn('A date index has been provided, but it has no'\n",
      "C:\\Users\\FatihS\\anaconda3\\anaconda_yeni\\lib\\site-packages\\statsmodels\\tsa\\base\\tsa_model.py:581: ValueWarning: A date index has been provided, but it has no associated frequency information and so will be ignored when e.g. forecasting.\n",
      "  warnings.warn('A date index has been provided, but it has no'\n"
     ]
    },
    {
     "name": "stdout",
     "output_type": "stream",
     "text": [
      "CIHAZ_305\n"
     ]
    }
   ],
   "source": [
    "#server_list = df['SERVER'].unique()\n",
    "#cpu_list = df['CPU'].unique()\n",
    "mean_cpuload = df.groupby('SERVER')['CPULOAD'].mean()\n",
    "\n",
    "sarima_models={}\n",
    "\n",
    "for server in mean_cpuload.index:\n",
    "        data_subset=df.loc[(df['SERVER']==server)]['CPULOAD']\n",
    "        model = SARIMAX(data_subset, order=(4,1,2), seasonal_order=(0,0,0,24))\n",
    "        results=model.fit()\n",
    "        sarima_models[server] = results\n",
    "        print(server)"
   ]
  },
  {
   "cell_type": "code",
   "execution_count": 23,
   "id": "f82f572f",
   "metadata": {},
   "outputs": [],
   "source": [
    "test_set=pd.read_csv('test.csv')\n",
    "\n",
    "test_set = test_set.set_index('DATETIME')"
   ]
  },
  {
   "cell_type": "code",
   "execution_count": 24,
   "id": "a655bc42",
   "metadata": {},
   "outputs": [
    {
     "data": {
      "text/plain": [
       "DatetimeIndex(['2020-05-31 00:00:00+03:00', '2020-05-31 00:00:00+03:00',\n",
       "               '2020-05-31 00:15:00+03:00', '2020-05-31 00:15:00+03:00',\n",
       "               '2020-05-31 00:30:00+03:00', '2020-05-31 00:30:00+03:00',\n",
       "               '2020-05-31 00:45:00+03:00', '2020-05-31 00:45:00+03:00',\n",
       "               '2020-05-31 01:00:00+03:00', '2020-05-31 01:00:00+03:00',\n",
       "               ...\n",
       "               '2020-05-31 22:45:00+03:00', '2020-05-31 22:45:00+03:00',\n",
       "               '2020-05-31 23:00:00+03:00', '2020-05-31 23:00:00+03:00',\n",
       "               '2020-05-31 23:15:00+03:00', '2020-05-31 23:15:00+03:00',\n",
       "               '2020-05-31 23:30:00+03:00', '2020-05-31 23:30:00+03:00',\n",
       "               '2020-05-31 23:45:00+03:00', '2020-05-31 23:45:00+03:00'],\n",
       "              dtype='datetime64[ns, pytz.FixedOffset(180)]', name='DATETIME', length=192, freq=None)"
      ]
     },
     "execution_count": 24,
     "metadata": {},
     "output_type": "execute_result"
    }
   ],
   "source": [
    "pd.to_datetime(test_set.index)"
   ]
  },
  {
   "cell_type": "code",
   "execution_count": 25,
   "id": "6e150f5a",
   "metadata": {},
   "outputs": [
    {
     "data": {
      "text/plain": [
       "Index(['index', 'SERVER'], dtype='object')"
      ]
     },
     "execution_count": 25,
     "metadata": {},
     "output_type": "execute_result"
    }
   ],
   "source": [
    "test_set.columns"
   ]
  },
  {
   "cell_type": "code",
   "execution_count": 26,
   "id": "bf2d5f4d",
   "metadata": {},
   "outputs": [
    {
     "data": {
      "text/plain": [
       "(192, 2)"
      ]
     },
     "execution_count": 26,
     "metadata": {},
     "output_type": "execute_result"
    }
   ],
   "source": [
    "test_set.shape"
   ]
  },
  {
   "cell_type": "code",
   "execution_count": 49,
   "id": "89daf1f5",
   "metadata": {
    "scrolled": false
   },
   "outputs": [
    {
     "ename": "KeyError",
     "evalue": "'The `start` argument could not be matched to a location related to the index of the data.'",
     "output_type": "error",
     "traceback": [
      "\u001b[1;31m---------------------------------------------------------------------------\u001b[0m",
      "\u001b[1;31mKeyError\u001b[0m                                  Traceback (most recent call last)",
      "\u001b[1;32m~\\anaconda3\\anaconda_yeni\\lib\\site-packages\\pandas\\core\\indexes\\base.py\u001b[0m in \u001b[0;36mget_loc\u001b[1;34m(self, key, method, tolerance)\u001b[0m\n\u001b[0;32m   3360\u001b[0m             \u001b[1;32mtry\u001b[0m\u001b[1;33m:\u001b[0m\u001b[1;33m\u001b[0m\u001b[1;33m\u001b[0m\u001b[0m\n\u001b[1;32m-> 3361\u001b[1;33m                 \u001b[1;32mreturn\u001b[0m \u001b[0mself\u001b[0m\u001b[1;33m.\u001b[0m\u001b[0m_engine\u001b[0m\u001b[1;33m.\u001b[0m\u001b[0mget_loc\u001b[0m\u001b[1;33m(\u001b[0m\u001b[0mcasted_key\u001b[0m\u001b[1;33m)\u001b[0m\u001b[1;33m\u001b[0m\u001b[1;33m\u001b[0m\u001b[0m\n\u001b[0m\u001b[0;32m   3362\u001b[0m             \u001b[1;32mexcept\u001b[0m \u001b[0mKeyError\u001b[0m \u001b[1;32mas\u001b[0m \u001b[0merr\u001b[0m\u001b[1;33m:\u001b[0m\u001b[1;33m\u001b[0m\u001b[1;33m\u001b[0m\u001b[0m\n",
      "\u001b[1;32m~\\anaconda3\\anaconda_yeni\\lib\\site-packages\\pandas\\_libs\\index.pyx\u001b[0m in \u001b[0;36mpandas._libs.index.DatetimeEngine.get_loc\u001b[1;34m()\u001b[0m\n",
      "\u001b[1;32m~\\anaconda3\\anaconda_yeni\\lib\\site-packages\\pandas\\_libs\\index.pyx\u001b[0m in \u001b[0;36mpandas._libs.index.DatetimeEngine.get_loc\u001b[1;34m()\u001b[0m\n",
      "\u001b[1;32m~\\anaconda3\\anaconda_yeni\\lib\\site-packages\\pandas\\_libs\\index.pyx\u001b[0m in \u001b[0;36mpandas._libs.index.IndexEngine._get_loc_duplicates\u001b[1;34m()\u001b[0m\n",
      "\u001b[1;31mKeyError\u001b[0m: 1590872400000000000",
      "\nThe above exception was the direct cause of the following exception:\n",
      "\u001b[1;31mKeyError\u001b[0m                                  Traceback (most recent call last)",
      "\u001b[1;32m~\\anaconda3\\anaconda_yeni\\lib\\site-packages\\pandas\\core\\indexes\\datetimes.py\u001b[0m in \u001b[0;36mget_loc\u001b[1;34m(self, key, method, tolerance)\u001b[0m\n\u001b[0;32m    702\u001b[0m         \u001b[1;32mtry\u001b[0m\u001b[1;33m:\u001b[0m\u001b[1;33m\u001b[0m\u001b[1;33m\u001b[0m\u001b[0m\n\u001b[1;32m--> 703\u001b[1;33m             \u001b[1;32mreturn\u001b[0m \u001b[0mIndex\u001b[0m\u001b[1;33m.\u001b[0m\u001b[0mget_loc\u001b[0m\u001b[1;33m(\u001b[0m\u001b[0mself\u001b[0m\u001b[1;33m,\u001b[0m \u001b[0mkey\u001b[0m\u001b[1;33m,\u001b[0m \u001b[0mmethod\u001b[0m\u001b[1;33m,\u001b[0m \u001b[0mtolerance\u001b[0m\u001b[1;33m)\u001b[0m\u001b[1;33m\u001b[0m\u001b[1;33m\u001b[0m\u001b[0m\n\u001b[0m\u001b[0;32m    704\u001b[0m         \u001b[1;32mexcept\u001b[0m \u001b[0mKeyError\u001b[0m \u001b[1;32mas\u001b[0m \u001b[0merr\u001b[0m\u001b[1;33m:\u001b[0m\u001b[1;33m\u001b[0m\u001b[1;33m\u001b[0m\u001b[0m\n",
      "\u001b[1;32m~\\anaconda3\\anaconda_yeni\\lib\\site-packages\\pandas\\core\\indexes\\base.py\u001b[0m in \u001b[0;36mget_loc\u001b[1;34m(self, key, method, tolerance)\u001b[0m\n\u001b[0;32m   3362\u001b[0m             \u001b[1;32mexcept\u001b[0m \u001b[0mKeyError\u001b[0m \u001b[1;32mas\u001b[0m \u001b[0merr\u001b[0m\u001b[1;33m:\u001b[0m\u001b[1;33m\u001b[0m\u001b[1;33m\u001b[0m\u001b[0m\n\u001b[1;32m-> 3363\u001b[1;33m                 \u001b[1;32mraise\u001b[0m \u001b[0mKeyError\u001b[0m\u001b[1;33m(\u001b[0m\u001b[0mkey\u001b[0m\u001b[1;33m)\u001b[0m \u001b[1;32mfrom\u001b[0m \u001b[0merr\u001b[0m\u001b[1;33m\u001b[0m\u001b[1;33m\u001b[0m\u001b[0m\n\u001b[0m\u001b[0;32m   3364\u001b[0m \u001b[1;33m\u001b[0m\u001b[0m\n",
      "\u001b[1;31mKeyError\u001b[0m: Timestamp('2020-05-31 00:00:00+0300', tz='pytz.FixedOffset(180)')",
      "\nThe above exception was the direct cause of the following exception:\n",
      "\u001b[1;31mKeyError\u001b[0m                                  Traceback (most recent call last)",
      "\u001b[1;32m~\\anaconda3\\anaconda_yeni\\lib\\site-packages\\statsmodels\\tsa\\base\\tsa_model.py\u001b[0m in \u001b[0;36mget_index_label_loc\u001b[1;34m(key, index, row_labels)\u001b[0m\n\u001b[0;32m    223\u001b[0m             \u001b[1;32mif\u001b[0m \u001b[1;32mnot\u001b[0m \u001b[0misinstance\u001b[0m\u001b[1;33m(\u001b[0m\u001b[0mkey\u001b[0m\u001b[1;33m,\u001b[0m \u001b[1;33m(\u001b[0m\u001b[0mint\u001b[0m\u001b[1;33m,\u001b[0m \u001b[0mnp\u001b[0m\u001b[1;33m.\u001b[0m\u001b[0minteger\u001b[0m\u001b[1;33m)\u001b[0m\u001b[1;33m)\u001b[0m\u001b[1;33m:\u001b[0m\u001b[1;33m\u001b[0m\u001b[1;33m\u001b[0m\u001b[0m\n\u001b[1;32m--> 224\u001b[1;33m                 \u001b[0mloc\u001b[0m \u001b[1;33m=\u001b[0m \u001b[0mrow_labels\u001b[0m\u001b[1;33m.\u001b[0m\u001b[0mget_loc\u001b[0m\u001b[1;33m(\u001b[0m\u001b[0mkey\u001b[0m\u001b[1;33m)\u001b[0m\u001b[1;33m\u001b[0m\u001b[1;33m\u001b[0m\u001b[0m\n\u001b[0m\u001b[0;32m    225\u001b[0m             \u001b[1;32melse\u001b[0m\u001b[1;33m:\u001b[0m\u001b[1;33m\u001b[0m\u001b[1;33m\u001b[0m\u001b[0m\n",
      "\u001b[1;32m~\\anaconda3\\anaconda_yeni\\lib\\site-packages\\pandas\\core\\indexes\\datetimes.py\u001b[0m in \u001b[0;36mget_loc\u001b[1;34m(self, key, method, tolerance)\u001b[0m\n\u001b[0;32m    704\u001b[0m         \u001b[1;32mexcept\u001b[0m \u001b[0mKeyError\u001b[0m \u001b[1;32mas\u001b[0m \u001b[0merr\u001b[0m\u001b[1;33m:\u001b[0m\u001b[1;33m\u001b[0m\u001b[1;33m\u001b[0m\u001b[0m\n\u001b[1;32m--> 705\u001b[1;33m             \u001b[1;32mraise\u001b[0m \u001b[0mKeyError\u001b[0m\u001b[1;33m(\u001b[0m\u001b[0morig_key\u001b[0m\u001b[1;33m)\u001b[0m \u001b[1;32mfrom\u001b[0m \u001b[0merr\u001b[0m\u001b[1;33m\u001b[0m\u001b[1;33m\u001b[0m\u001b[0m\n\u001b[0m\u001b[0;32m    706\u001b[0m \u001b[1;33m\u001b[0m\u001b[0m\n",
      "\u001b[1;31mKeyError\u001b[0m: '2020-05-31 00:00:00+03:00'",
      "\nDuring handling of the above exception, another exception occurred:\n",
      "\u001b[1;31mKeyError\u001b[0m                                  Traceback (most recent call last)",
      "\u001b[1;32m~\\anaconda3\\anaconda_yeni\\lib\\site-packages\\statsmodels\\tsa\\base\\tsa_model.py\u001b[0m in \u001b[0;36mget_prediction_index\u001b[1;34m(start, end, nobs, base_index, index, silent, index_none, index_generated, data)\u001b[0m\n\u001b[0;32m    323\u001b[0m     \u001b[1;32mtry\u001b[0m\u001b[1;33m:\u001b[0m\u001b[1;33m\u001b[0m\u001b[1;33m\u001b[0m\u001b[0m\n\u001b[1;32m--> 324\u001b[1;33m         \u001b[0mstart\u001b[0m\u001b[1;33m,\u001b[0m \u001b[0m_\u001b[0m\u001b[1;33m,\u001b[0m \u001b[0mstart_oos\u001b[0m \u001b[1;33m=\u001b[0m \u001b[0mget_index_label_loc\u001b[0m\u001b[1;33m(\u001b[0m\u001b[0mstart\u001b[0m\u001b[1;33m,\u001b[0m \u001b[0mbase_index\u001b[0m\u001b[1;33m,\u001b[0m \u001b[0mdata\u001b[0m\u001b[1;33m.\u001b[0m\u001b[0mrow_labels\u001b[0m\u001b[1;33m)\u001b[0m\u001b[1;33m\u001b[0m\u001b[1;33m\u001b[0m\u001b[0m\n\u001b[0m\u001b[0;32m    325\u001b[0m     \u001b[1;32mexcept\u001b[0m \u001b[0mKeyError\u001b[0m\u001b[1;33m:\u001b[0m\u001b[1;33m\u001b[0m\u001b[1;33m\u001b[0m\u001b[0m\n",
      "\u001b[1;32m~\\anaconda3\\anaconda_yeni\\lib\\site-packages\\statsmodels\\tsa\\base\\tsa_model.py\u001b[0m in \u001b[0;36mget_index_label_loc\u001b[1;34m(key, index, row_labels)\u001b[0m\n\u001b[0;32m    255\u001b[0m         \u001b[1;32mexcept\u001b[0m\u001b[1;33m:\u001b[0m\u001b[1;33m\u001b[0m\u001b[1;33m\u001b[0m\u001b[0m\n\u001b[1;32m--> 256\u001b[1;33m             \u001b[1;32mraise\u001b[0m \u001b[0me\u001b[0m\u001b[1;33m\u001b[0m\u001b[1;33m\u001b[0m\u001b[0m\n\u001b[0m\u001b[0;32m    257\u001b[0m     \u001b[1;32mreturn\u001b[0m \u001b[0mloc\u001b[0m\u001b[1;33m,\u001b[0m \u001b[0mindex\u001b[0m\u001b[1;33m,\u001b[0m \u001b[0mindex_was_expanded\u001b[0m\u001b[1;33m\u001b[0m\u001b[1;33m\u001b[0m\u001b[0m\n",
      "\u001b[1;32m~\\anaconda3\\anaconda_yeni\\lib\\site-packages\\statsmodels\\tsa\\base\\tsa_model.py\u001b[0m in \u001b[0;36mget_index_label_loc\u001b[1;34m(key, index, row_labels)\u001b[0m\n\u001b[0;32m    219\u001b[0m     \u001b[1;32mtry\u001b[0m\u001b[1;33m:\u001b[0m\u001b[1;33m\u001b[0m\u001b[1;33m\u001b[0m\u001b[0m\n\u001b[1;32m--> 220\u001b[1;33m         \u001b[0mloc\u001b[0m\u001b[1;33m,\u001b[0m \u001b[0mindex\u001b[0m\u001b[1;33m,\u001b[0m \u001b[0mindex_was_expanded\u001b[0m \u001b[1;33m=\u001b[0m \u001b[0mget_index_loc\u001b[0m\u001b[1;33m(\u001b[0m\u001b[0mkey\u001b[0m\u001b[1;33m,\u001b[0m \u001b[0mindex\u001b[0m\u001b[1;33m)\u001b[0m\u001b[1;33m\u001b[0m\u001b[1;33m\u001b[0m\u001b[0m\n\u001b[0m\u001b[0;32m    221\u001b[0m     \u001b[1;32mexcept\u001b[0m \u001b[0mKeyError\u001b[0m \u001b[1;32mas\u001b[0m \u001b[0me\u001b[0m\u001b[1;33m:\u001b[0m\u001b[1;33m\u001b[0m\u001b[1;33m\u001b[0m\u001b[0m\n",
      "\u001b[1;32m~\\anaconda3\\anaconda_yeni\\lib\\site-packages\\statsmodels\\tsa\\base\\tsa_model.py\u001b[0m in \u001b[0;36mget_index_loc\u001b[1;34m(key, index)\u001b[0m\n\u001b[0;32m    169\u001b[0m         \u001b[1;32mexcept\u001b[0m \u001b[1;33m(\u001b[0m\u001b[0mIndexError\u001b[0m\u001b[1;33m,\u001b[0m \u001b[0mValueError\u001b[0m\u001b[1;33m)\u001b[0m \u001b[1;32mas\u001b[0m \u001b[0me\u001b[0m\u001b[1;33m:\u001b[0m\u001b[1;33m\u001b[0m\u001b[1;33m\u001b[0m\u001b[0m\n\u001b[1;32m--> 170\u001b[1;33m             \u001b[1;32mraise\u001b[0m \u001b[0mKeyError\u001b[0m\u001b[1;33m(\u001b[0m\u001b[0mstr\u001b[0m\u001b[1;33m(\u001b[0m\u001b[0me\u001b[0m\u001b[1;33m)\u001b[0m\u001b[1;33m)\u001b[0m\u001b[1;33m\u001b[0m\u001b[1;33m\u001b[0m\u001b[0m\n\u001b[0m\u001b[0;32m    171\u001b[0m         \u001b[0mloc\u001b[0m \u001b[1;33m=\u001b[0m \u001b[0mkey\u001b[0m\u001b[1;33m\u001b[0m\u001b[1;33m\u001b[0m\u001b[0m\n",
      "\u001b[1;31mKeyError\u001b[0m: 'only integers, slices (`:`), ellipsis (`...`), numpy.newaxis (`None`) and integer or boolean arrays are valid indices'",
      "\nDuring handling of the above exception, another exception occurred:\n",
      "\u001b[1;31mKeyError\u001b[0m                                  Traceback (most recent call last)",
      "\u001b[1;32m~\\AppData\\Local\\Temp/ipykernel_14192/3629953863.py\u001b[0m in \u001b[0;36m<module>\u001b[1;34m\u001b[0m\n\u001b[0;32m      4\u001b[0m     \u001b[0mmodel_fit\u001b[0m \u001b[1;33m=\u001b[0m \u001b[0msarima_models\u001b[0m\u001b[1;33m[\u001b[0m\u001b[0mserver\u001b[0m\u001b[1;33m]\u001b[0m\u001b[1;33m\u001b[0m\u001b[1;33m\u001b[0m\u001b[0m\n\u001b[0;32m      5\u001b[0m     \u001b[0mserver_test_data\u001b[0m \u001b[1;33m=\u001b[0m \u001b[0mtest_set\u001b[0m\u001b[1;33m[\u001b[0m\u001b[0mtest_set\u001b[0m\u001b[1;33m[\u001b[0m\u001b[1;34m'SERVER'\u001b[0m\u001b[1;33m]\u001b[0m \u001b[1;33m==\u001b[0m \u001b[0mserver\u001b[0m\u001b[1;33m]\u001b[0m\u001b[1;33m\u001b[0m\u001b[1;33m\u001b[0m\u001b[0m\n\u001b[1;32m----> 6\u001b[1;33m     \u001b[0mpredictions\u001b[0m \u001b[1;33m=\u001b[0m \u001b[0mmodel_fit\u001b[0m\u001b[1;33m.\u001b[0m\u001b[0mpredict\u001b[0m\u001b[1;33m(\u001b[0m\u001b[0mstart\u001b[0m\u001b[1;33m=\u001b[0m\u001b[0mserver_test_data\u001b[0m\u001b[1;33m.\u001b[0m\u001b[0mindex\u001b[0m\u001b[1;33m[\u001b[0m\u001b[1;36m0\u001b[0m\u001b[1;33m]\u001b[0m\u001b[1;33m,\u001b[0m \u001b[0mend\u001b[0m\u001b[1;33m=\u001b[0m\u001b[0mserver_test_data\u001b[0m\u001b[1;33m.\u001b[0m\u001b[0mindex\u001b[0m\u001b[1;33m[\u001b[0m\u001b[1;33m-\u001b[0m\u001b[1;36m1\u001b[0m\u001b[1;33m]\u001b[0m\u001b[1;33m)\u001b[0m\u001b[1;33m\u001b[0m\u001b[1;33m\u001b[0m\u001b[0m\n\u001b[0m\u001b[0;32m      7\u001b[0m     \u001b[0mpredicted_cpuload\u001b[0m\u001b[1;33m.\u001b[0m\u001b[0mloc\u001b[0m\u001b[1;33m[\u001b[0m\u001b[0mserver_test_data\u001b[0m\u001b[1;33m.\u001b[0m\u001b[0mindex\u001b[0m\u001b[1;33m,\u001b[0m \u001b[1;34m'CPULOAD'\u001b[0m\u001b[1;33m]\u001b[0m \u001b[1;33m=\u001b[0m \u001b[0mpredictions\u001b[0m\u001b[1;33m\u001b[0m\u001b[1;33m\u001b[0m\u001b[0m\n",
      "\u001b[1;32m~\\anaconda3\\anaconda_yeni\\lib\\site-packages\\statsmodels\\base\\wrapper.py\u001b[0m in \u001b[0;36mwrapper\u001b[1;34m(self, *args, **kwargs)\u001b[0m\n\u001b[0;32m    111\u001b[0m             \u001b[0mobj\u001b[0m \u001b[1;33m=\u001b[0m \u001b[0mdata\u001b[0m\u001b[1;33m.\u001b[0m\u001b[0mwrap_output\u001b[0m\u001b[1;33m(\u001b[0m\u001b[0mfunc\u001b[0m\u001b[1;33m(\u001b[0m\u001b[0mresults\u001b[0m\u001b[1;33m,\u001b[0m \u001b[1;33m*\u001b[0m\u001b[0margs\u001b[0m\u001b[1;33m,\u001b[0m \u001b[1;33m**\u001b[0m\u001b[0mkwargs\u001b[0m\u001b[1;33m)\u001b[0m\u001b[1;33m,\u001b[0m \u001b[0mhow\u001b[0m\u001b[1;33m[\u001b[0m\u001b[1;36m0\u001b[0m\u001b[1;33m]\u001b[0m\u001b[1;33m,\u001b[0m \u001b[0mhow\u001b[0m\u001b[1;33m[\u001b[0m\u001b[1;36m1\u001b[0m\u001b[1;33m:\u001b[0m\u001b[1;33m]\u001b[0m\u001b[1;33m)\u001b[0m\u001b[1;33m\u001b[0m\u001b[1;33m\u001b[0m\u001b[0m\n\u001b[0;32m    112\u001b[0m         \u001b[1;32melif\u001b[0m \u001b[0mhow\u001b[0m\u001b[1;33m:\u001b[0m\u001b[1;33m\u001b[0m\u001b[1;33m\u001b[0m\u001b[0m\n\u001b[1;32m--> 113\u001b[1;33m             \u001b[0mobj\u001b[0m \u001b[1;33m=\u001b[0m \u001b[0mdata\u001b[0m\u001b[1;33m.\u001b[0m\u001b[0mwrap_output\u001b[0m\u001b[1;33m(\u001b[0m\u001b[0mfunc\u001b[0m\u001b[1;33m(\u001b[0m\u001b[0mresults\u001b[0m\u001b[1;33m,\u001b[0m \u001b[1;33m*\u001b[0m\u001b[0margs\u001b[0m\u001b[1;33m,\u001b[0m \u001b[1;33m**\u001b[0m\u001b[0mkwargs\u001b[0m\u001b[1;33m)\u001b[0m\u001b[1;33m,\u001b[0m \u001b[0mhow\u001b[0m\u001b[1;33m)\u001b[0m\u001b[1;33m\u001b[0m\u001b[1;33m\u001b[0m\u001b[0m\n\u001b[0m\u001b[0;32m    114\u001b[0m         \u001b[1;32mreturn\u001b[0m \u001b[0mobj\u001b[0m\u001b[1;33m\u001b[0m\u001b[1;33m\u001b[0m\u001b[0m\n\u001b[0;32m    115\u001b[0m \u001b[1;33m\u001b[0m\u001b[0m\n",
      "\u001b[1;32m~\\anaconda3\\anaconda_yeni\\lib\\site-packages\\statsmodels\\tsa\\statespace\\mlemodel.py\u001b[0m in \u001b[0;36mpredict\u001b[1;34m(self, start, end, dynamic, **kwargs)\u001b[0m\n\u001b[0;32m   3386\u001b[0m         \"\"\"\n\u001b[0;32m   3387\u001b[0m         \u001b[1;31m# Perform the prediction\u001b[0m\u001b[1;33m\u001b[0m\u001b[1;33m\u001b[0m\u001b[0m\n\u001b[1;32m-> 3388\u001b[1;33m         \u001b[0mprediction_results\u001b[0m \u001b[1;33m=\u001b[0m \u001b[0mself\u001b[0m\u001b[1;33m.\u001b[0m\u001b[0mget_prediction\u001b[0m\u001b[1;33m(\u001b[0m\u001b[0mstart\u001b[0m\u001b[1;33m,\u001b[0m \u001b[0mend\u001b[0m\u001b[1;33m,\u001b[0m \u001b[0mdynamic\u001b[0m\u001b[1;33m,\u001b[0m \u001b[1;33m**\u001b[0m\u001b[0mkwargs\u001b[0m\u001b[1;33m)\u001b[0m\u001b[1;33m\u001b[0m\u001b[1;33m\u001b[0m\u001b[0m\n\u001b[0m\u001b[0;32m   3389\u001b[0m         \u001b[1;32mreturn\u001b[0m \u001b[0mprediction_results\u001b[0m\u001b[1;33m.\u001b[0m\u001b[0mpredicted_mean\u001b[0m\u001b[1;33m\u001b[0m\u001b[1;33m\u001b[0m\u001b[0m\n\u001b[0;32m   3390\u001b[0m \u001b[1;33m\u001b[0m\u001b[0m\n",
      "\u001b[1;32m~\\anaconda3\\anaconda_yeni\\lib\\site-packages\\statsmodels\\tsa\\statespace\\mlemodel.py\u001b[0m in \u001b[0;36mget_prediction\u001b[1;34m(self, start, end, dynamic, index, exog, extend_model, extend_kwargs, **kwargs)\u001b[0m\n\u001b[0;32m   3284\u001b[0m         \u001b[1;31m# Handle start, end, dynamic\u001b[0m\u001b[1;33m\u001b[0m\u001b[1;33m\u001b[0m\u001b[0m\n\u001b[0;32m   3285\u001b[0m         start, end, out_of_sample, prediction_index = (\n\u001b[1;32m-> 3286\u001b[1;33m             self.model._get_prediction_index(start, end, index))\n\u001b[0m\u001b[0;32m   3287\u001b[0m \u001b[1;33m\u001b[0m\u001b[0m\n\u001b[0;32m   3288\u001b[0m         \u001b[1;31m# Handle `dynamic`\u001b[0m\u001b[1;33m\u001b[0m\u001b[1;33m\u001b[0m\u001b[0m\n",
      "\u001b[1;32m~\\anaconda3\\anaconda_yeni\\lib\\site-packages\\statsmodels\\tsa\\base\\tsa_model.py\u001b[0m in \u001b[0;36m_get_prediction_index\u001b[1;34m(self, start, end, index, silent)\u001b[0m\n\u001b[0;32m    736\u001b[0m         \"\"\"\n\u001b[0;32m    737\u001b[0m         \u001b[0mnobs\u001b[0m \u001b[1;33m=\u001b[0m \u001b[0mlen\u001b[0m\u001b[1;33m(\u001b[0m\u001b[0mself\u001b[0m\u001b[1;33m.\u001b[0m\u001b[0mendog\u001b[0m\u001b[1;33m)\u001b[0m\u001b[1;33m\u001b[0m\u001b[1;33m\u001b[0m\u001b[0m\n\u001b[1;32m--> 738\u001b[1;33m         return get_prediction_index(start,\n\u001b[0m\u001b[0;32m    739\u001b[0m                                     \u001b[0mend\u001b[0m\u001b[1;33m,\u001b[0m\u001b[1;33m\u001b[0m\u001b[1;33m\u001b[0m\u001b[0m\n\u001b[0;32m    740\u001b[0m                                     \u001b[0mnobs\u001b[0m\u001b[1;33m,\u001b[0m\u001b[1;33m\u001b[0m\u001b[1;33m\u001b[0m\u001b[0m\n",
      "\u001b[1;32m~\\anaconda3\\anaconda_yeni\\lib\\site-packages\\statsmodels\\tsa\\base\\tsa_model.py\u001b[0m in \u001b[0;36mget_prediction_index\u001b[1;34m(start, end, nobs, base_index, index, silent, index_none, index_generated, data)\u001b[0m\n\u001b[0;32m    324\u001b[0m         \u001b[0mstart\u001b[0m\u001b[1;33m,\u001b[0m \u001b[0m_\u001b[0m\u001b[1;33m,\u001b[0m \u001b[0mstart_oos\u001b[0m \u001b[1;33m=\u001b[0m \u001b[0mget_index_label_loc\u001b[0m\u001b[1;33m(\u001b[0m\u001b[0mstart\u001b[0m\u001b[1;33m,\u001b[0m \u001b[0mbase_index\u001b[0m\u001b[1;33m,\u001b[0m \u001b[0mdata\u001b[0m\u001b[1;33m.\u001b[0m\u001b[0mrow_labels\u001b[0m\u001b[1;33m)\u001b[0m\u001b[1;33m\u001b[0m\u001b[1;33m\u001b[0m\u001b[0m\n\u001b[0;32m    325\u001b[0m     \u001b[1;32mexcept\u001b[0m \u001b[0mKeyError\u001b[0m\u001b[1;33m:\u001b[0m\u001b[1;33m\u001b[0m\u001b[1;33m\u001b[0m\u001b[0m\n\u001b[1;32m--> 326\u001b[1;33m         raise KeyError('The `start` argument could not be matched to a'\n\u001b[0m\u001b[0;32m    327\u001b[0m                        ' location related to the index of the data.')\n\u001b[0;32m    328\u001b[0m     \u001b[1;32mif\u001b[0m \u001b[0mend\u001b[0m \u001b[1;32mis\u001b[0m \u001b[1;32mNone\u001b[0m\u001b[1;33m:\u001b[0m\u001b[1;33m\u001b[0m\u001b[1;33m\u001b[0m\u001b[0m\n",
      "\u001b[1;31mKeyError\u001b[0m: 'The `start` argument could not be matched to a location related to the index of the data.'"
     ]
    }
   ],
   "source": [
    "predicted_cpuload = pd.DataFrame(index=test_set.index)\n",
    "\n",
    "for server in mean_cpuload.index:\n",
    "    model_fit = sarima_models[server]\n",
    "    server_test_data = test_set[test_set['SERVER'] == server]\n",
    "    predictions = model_fit.predict(start=server_test_data.index[0], end=server_test_data.index[-1])\n",
    "    predicted_cpuload.loc[server_test_data.index, 'CPULOAD'] = predictions"
   ]
  },
  {
   "cell_type": "code",
   "execution_count": null,
   "id": "5976476d",
   "metadata": {},
   "outputs": [],
   "source": [
    "predicted_cpuload['server'] = test_set['server']"
   ]
  },
  {
   "cell_type": "code",
   "execution_count": null,
   "id": "97fb1b97",
   "metadata": {},
   "outputs": [],
   "source": [
    "predicted_cpu.to_csv('predicted_set.csv')"
   ]
  }
 ],
 "metadata": {
  "kernelspec": {
   "display_name": "Python 3 (ipykernel)",
   "language": "python",
   "name": "python3"
  },
  "language_info": {
   "codemirror_mode": {
    "name": "ipython",
    "version": 3
   },
   "file_extension": ".py",
   "mimetype": "text/x-python",
   "name": "python",
   "nbconvert_exporter": "python",
   "pygments_lexer": "ipython3",
   "version": "3.9.7"
  }
 },
 "nbformat": 4,
 "nbformat_minor": 5
}
